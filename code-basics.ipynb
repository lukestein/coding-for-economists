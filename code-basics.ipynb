{
 "cells": [
  {
   "cell_type": "markdown",
   "id": "05f28647",
   "metadata": {},
   "source": [
    "# Basics of Coding\n",
    "\n",
    "In this chapter, you'll learn about the basics of objects, types, operations, conditions, loops, functions, and imports. These are the basic building blocks of almost all programming languages.\n",
    "\n",
    "This chapter has benefited from the excellent [*Python Programming for Data Science*](https://www.tomasbeuzen.com/python-programming-for-data-science/README.html) book by Tomas Beuzen.\n",
    "\n",
    "```{tip}\n",
    "Remember, you can launch this page interactively by using the 'Colab' or 'Binder' buttons under the rocket symbol at the top of the page. You can also download this page as a Jupyter Notebook to run on your own computer: use the 'download .ipynb' button under the download symbol the top of the page.\n",
    "```\n",
    "\n",
    "## If you get stuck\n",
    "\n",
    "It's worth saying at the outset that, *no-one*, and I mean no-one, memorises half of the stuff you'll see in this book. 80% or more of time spent programming is actually time spent looking up how to do this or that online, 'debugging' a code for errors, or testing code. This applies to all programmers, regardless of level. You are here to learn the skills and concepts of programming, not the precise syntax (which is easy to look up later).\n",
    "\n",
    "![xkcd-what-did-you-see](https://imgs.xkcd.com/comics/wisdom_of_the_ancients.png)\n",
    "\n",
    "Knowing how to Google is one of the most important skills of any coder. No-one remembers every function from every library. Here are some useful coding resources:\n",
    "\n",
    "- when you have an error, look on Stack Overflow to see if anyone else had the same error (they probably did) and how they overcame it.\n",
    "\n",
    "- if you're having trouble navigating a new package or library, look up the documentation online. The best libraries put as much effort into documentation as they do the code base.\n",
    "\n",
    "- use cheat sheets to get on top of a range of functionality quickly. For instance, this excellent (mostly) base Python [Cheat Sheet](https://gto76.github.io/python-cheatsheet/).\n",
    "\n",
    "- if you're having a coding issue, take a walk to think about the problem, or explain your problem to an animal toy on your desk ([traditionally](https://en.wikipedia.org/wiki/Rubber_duck_debugging) a rubber duck, but other animals are available).\n",
    "\n",
    "## Values, variables, and types\n",
    "\n",
    "A value is datum such as a number or text. There are different types of values: 352.3 is known as a float or double, 22 is an integer, and \"Hello World!\" is a string. A variable is a name that refers to a value: you can think of a variable as a box that has a value, or multiple values, packed inside it. \n",
    "\n",
    "Almost any word can be a variable name as long as it starts with a letter or an underscore, although there are some special keywords that can't be used because they already have a role in the Python language: these include `if`, `while`, `class`, and `lambda`.\n",
    "\n",
    "Creating a variable in Python is achieved via an assignment (putting a value in the box), and this assignment is done via the `=` operator. The box, or variable, goes on the left while the value we wish to store appears on the right. It's simpler than it sounds:"
   ]
  },
  {
   "cell_type": "code",
   "execution_count": null,
   "id": "e41700a7",
   "metadata": {},
   "outputs": [],
   "source": [
    "a = 10\n",
    "print(a)"
   ]
  },
  {
   "cell_type": "markdown",
   "id": "7bf153cf",
   "metadata": {},
   "source": [
    "This creates a variable `a`, assigns the value 10 to it, and prints it. Sometimes you will hear variables referred to as *objects*. Everything that is not a literal value, such as `10`, is an object. In the above example, `a` is an object that has been assigned the value `10`.\n",
    "\n",
    "How about this:"
   ]
  },
  {
   "cell_type": "code",
   "execution_count": null,
   "id": "bddb572d",
   "metadata": {},
   "outputs": [],
   "source": [
    "b = \"This is a string\"\n",
    "print(b)"
   ]
  },
  {
   "cell_type": "markdown",
   "id": "219ef5c6",
   "metadata": {},
   "source": [
    "It's the same thing but with a different **type** of data, a string instead of an integer. Python is *dynamically typed*, which means it will guess what type of variable you're creating as you create it. This has pros and cons, with the main pro being that it makes for more concise code.\n",
    "\n",
    "```{admonition} Important\n",
    "Everything is an object, and every object has a type.\n",
    "```\n",
    "\n",
    "The most basic built-in data types that you'll need to know about are: integers `10`, floats `1.23`, strings `like this`, booleans `True`, and nothing `None`. Python also has a built-in type called a list `[10, 15, 20]` that can contain anything, even *different* types. So"
   ]
  },
  {
   "cell_type": "code",
   "execution_count": null,
   "id": "498a3eb1",
   "metadata": {},
   "outputs": [],
   "source": [
    "list_example = [10, 1.23, \"like this\", True, None]\n",
    "print(list_example)"
   ]
  },
  {
   "cell_type": "markdown",
   "id": "9103ef55",
   "metadata": {},
   "source": [
    "is completely valid code. `None` is a special type of nothingness, and represents an object with no value. It has type `NoneType` and is more useful than you might think! \n",
    "\n",
    "As well as the built-in types, packages can define their own custom types. If you ever want to check the type of a Python variable, you can call the `type` function on it like so:"
   ]
  },
  {
   "cell_type": "code",
   "execution_count": null,
   "id": "9dcdfae6",
   "metadata": {},
   "outputs": [],
   "source": [
    "type(list_example)"
   ]
  },
  {
   "cell_type": "markdown",
   "id": "c0bf15ab",
   "metadata": {},
   "source": [
    "This is especially useful for debugging `ValueError` messages.\n",
    "\n",
    "Below is a table of common data types in Python:\n",
    "\n",
    "| Name          | Type name  | Type Category  | Description                                   | Example                                    |\n",
    "| :-------------------- | :--------- | :------------- | :-------------------------------------------- | :----------------------------------------- |\n",
    "| integer               | `int`      | Numeric Type   | positive/negative whole numbers               | `22`                                       |\n",
    "| floating point number | `float`    | Numeric Type   | real number in decimal form                   | `3.14159`                                  |\n",
    "| boolean               | `bool`     | Boolean Values | true or false                                 | `True`                                     |\n",
    "| string                | `str`      | Sequence Type  | text                                          | `\"Hello World!\"`                 |\n",
    "| list                  | `list`     | Sequence Type  | a collection of objects - mutable & ordered   | `['text entry', True, 16]`               |\n",
    "| tuple                 | `tuple`    | Sequence Type  | a collection of objects - immutable & ordered | `(51.02, -0.98)`                 |\n",
    "| dictionary            | `dict`     | Mapping Type   | mapping of key-value pairs                    | `{'name':'Ada', 'subject':'computer science'}` |\n",
    "| none                  | `NoneType` | Null Object    | represents no value                           | `None`                                     |\n",
    "| function                  | `function` | Function   | Represents a function                           | `def add_one(x): return x+1`                                     |\n",
    "\n",
    "### Brackets\n",
    "\n",
    "You may notice that there are several kinds of brackets that appear in the code we've seen so far, including `[]`, `{}`, and `()`. These can play different roles depending on the context, but the most common uses are:\n",
    "\n",
    "- `[]` is used to denote a list, eg `['a', 'b']`, or to signify accessing a position using an index, eg `vector[0]` to get the first entry of a variable called vector.\n",
    "\n",
    "- `{}` is used to denote a set, eg `{'a', 'b'}`, or a dictionary (with pairs of terms), eg `{'first_letter': 'a', 'second_letter': 'b'}`.\n",
    "\n",
    "- `()` is used to denote a tuple, eg `('a', 'b')`, or the arguments to a function, eg `function(x)` where `x` is the input passed to the function, *or* to indicate the order operations are carried out.\n",
    "\n",
    "## Lists and slicing\n",
    "\n",
    "Lists are a really useful way to work with lots of data at once. They're defined with square brackets, with entries separated by commas. You can also construct them by appending entries:"
   ]
  },
  {
   "cell_type": "code",
   "execution_count": null,
   "id": "d8c1c710",
   "metadata": {},
   "outputs": [],
   "source": [
    "list_example.append(\"one more entry\")\n",
    "print(list_example)"
   ]
  },
  {
   "cell_type": "markdown",
   "id": "5aadb9ac",
   "metadata": {},
   "source": [
    "And you can access earlier entries using an index, which begins at 0 and ends at one less than the length of the list (this is the convention in many programming languages). For instance, to print specific entries at the start, using `0`, and end, using `-1`:"
   ]
  },
  {
   "cell_type": "code",
   "execution_count": null,
   "id": "a2196835",
   "metadata": {},
   "outputs": [],
   "source": [
    "print(list_example[0])\n",
    "print(list_example[-1])"
   ]
  },
  {
   "cell_type": "markdown",
   "id": "54650444",
   "metadata": {},
   "source": [
    "As well as accessing positions in lists using indexing, you can use *slices* on lists. This uses the colon character, `:`, to stand in for 'from the beginning' or 'until the end' (when only appearing once). For instance, to print just the last two entries, we would use the index `-2:` to mean from the second-to-last onwards. Here are two distinct examples: getting the first three and last three entries to be successively printed:"
   ]
  },
  {
   "cell_type": "code",
   "execution_count": null,
   "id": "ffa79b85",
   "metadata": {},
   "outputs": [],
   "source": [
    "print(list_example[:3])\n",
    "print(list_example[-3:])"
   ]
  },
  {
   "cell_type": "markdown",
   "id": "57c9a2d7",
   "metadata": {},
   "source": [
    "Slicing can be even more elaborate than that because we can jump entries using a second colon. Here's a full example that begins at the second entry (remember the index starts at 0), runs up until the second-to-last entry (exclusive), and jumps every other entry inbetween (range just produces a list of integers from the value to one less than the last):"
   ]
  },
  {
   "cell_type": "code",
   "execution_count": null,
   "id": "5bf00e38",
   "metadata": {},
   "outputs": [],
   "source": [
    "list_of_numbers = list(range(1, 11))\n",
    "start = 1\n",
    "stop = -1\n",
    "step = 2\n",
    "print(list_of_numbers[start:stop:step])"
   ]
  },
  {
   "cell_type": "markdown",
   "id": "711684fc",
   "metadata": {},
   "source": [
    "A handy trick is that you can print a reversed list entirely using double colons:"
   ]
  },
  {
   "cell_type": "code",
   "execution_count": null,
   "id": "86eb9a6e",
   "metadata": {},
   "outputs": [],
   "source": [
    "print(list_of_numbers[::-1])"
   ]
  },
  {
   "cell_type": "markdown",
   "id": "f504a07f",
   "metadata": {},
   "source": [
    "What's amazing about lists is that they can hold any type, including other lists! Here's a valid example of a list that's got a lot going on:"
   ]
  },
  {
   "cell_type": "code",
   "execution_count": null,
   "id": "8927e2a2",
   "metadata": {},
   "outputs": [],
   "source": [
    "wacky_list = [\n",
    "    3.1415,\n",
    "    16,\n",
    "    [\"five\", 4, 3],\n",
    "    \"Hello World!\",\n",
    "    True,\n",
    "    None,\n",
    "    {\"key\": \"value\", \"key2\": \"value2\"},\n",
    "]\n",
    "wacky_list"
   ]
  },
  {
   "cell_type": "markdown",
   "id": "cf29260b",
   "metadata": {},
   "source": [
    "Can you identify the types of each of the entries (and entries of entries)?\n",
    "\n",
    "## Operators\n",
    "\n",
    "All of the basic operators you see in mathematics are available to use: `+` for addition, `-` for subtraction, `*` for multiplication, `**` for powers, `/` for division, and `%` for modulo. These work as you'd expect on numbers. But these operators are sometimes defined for other built-in data types too. For instance, we can 'sum' strings (which really concatenates them):"
   ]
  },
  {
   "cell_type": "code",
   "execution_count": null,
   "id": "209dde0f",
   "metadata": {},
   "outputs": [],
   "source": [
    "string_one = \"This is an example \"\n",
    "string_two = \"of string concatenation\"\n",
    "string_full = string_one + string_two\n",
    "print(string_full)"
   ]
  },
  {
   "cell_type": "markdown",
   "id": "e6c684a3",
   "metadata": {},
   "source": [
    "It works for lists too:"
   ]
  },
  {
   "cell_type": "code",
   "execution_count": null,
   "id": "454e4fa9",
   "metadata": {},
   "outputs": [],
   "source": [
    "list_one = [\"apples\", \"oranges\"]\n",
    "list_two = [\"pears\", \"satsumas\"]\n",
    "list_full = list_one + list_two\n",
    "print(list_full)"
   ]
  },
  {
   "cell_type": "markdown",
   "id": "1a8dce67",
   "metadata": {},
   "source": [
    "Perhaps more surprisingly, you can multiply strings!"
   ]
  },
  {
   "cell_type": "code",
   "execution_count": null,
   "id": "82094cd4",
   "metadata": {},
   "outputs": [],
   "source": [
    "string = \"apples, \"\n",
    "print(string * 3)"
   ]
  },
  {
   "cell_type": "markdown",
   "id": "b6189a37",
   "metadata": {},
   "source": [
    "Below is a table of the basic arithmetic operations.\n",
    "\n",
    "| Operator |   Description    |\n",
    "| :------: | :--------------: |\n",
    "|   `+`    |     addition     |\n",
    "|   `-`    |   subtraction    |\n",
    "|   `*`    |  multiplication  |\n",
    "|   `/`    |     division     |\n",
    "|   `**`   |  exponentiation  |\n",
    "|   `//`   | integer division / floor division |\n",
    "|   `%`    |      modulo      |\n",
    "|   `@`    |     matrix multiplication |\n",
    "\n",
    "As well as the usual operators, Python supports *assignment operators*. An example of one is `x+=3`, which is equivalent to running `x = x + 3`. Pretty much all of the operators can be used in this way.\n",
    "\n",
    "\n",
    "## Strings\n",
    "\n",
    "In some ways, strings are treated a bit like lists, meaning you can access the individual characters via slicing and indexing. For example:"
   ]
  },
  {
   "cell_type": "code",
   "execution_count": null,
   "id": "ce5d2ed8",
   "metadata": {},
   "outputs": [],
   "source": [
    "string = \"cheesecake\"\n",
    "print(string[-4:])"
   ]
  },
  {
   "cell_type": "markdown",
   "id": "31c4320b",
   "metadata": {},
   "source": [
    "Both lists and strings will also allow you to use the `len` command to get their length:"
   ]
  },
  {
   "cell_type": "code",
   "execution_count": null,
   "id": "75edcd7d",
   "metadata": {},
   "outputs": [],
   "source": [
    "string = \"cheesecake\"\n",
    "print(\"String has length:\")\n",
    "print(len(string))\n",
    "list_of_numbers = range(1, 20)\n",
    "print(\"List of numbers has length:\")\n",
    "print(len(list_of_numbers))"
   ]
  },
  {
   "cell_type": "markdown",
   "id": "c3e90748",
   "metadata": {},
   "source": [
    "Strings have type `string` and can be defined by single or double quotes, eg `string = \"cheesecake\"` would have been equally valid above.\n",
    "\n",
    "There are various functions built into Python to help you work with strings that are particularly useful for cleaning messy data. For example, imagine you have a variable name like 'This Is /A Variable   '. (You may think this is implausibly bad; I only wish that were true). Let's see if we can clean this up:"
   ]
  },
  {
   "cell_type": "code",
   "execution_count": null,
   "id": "6d534da3",
   "metadata": {},
   "outputs": [],
   "source": [
    "string = \"This Is /A Variable   \"\n",
    "string = string.replace(\"/\", \"\").rstrip().lower()\n",
    "print(string)"
   ]
  },
  {
   "cell_type": "markdown",
   "id": "37c50025",
   "metadata": {},
   "source": [
    "The steps above replace the character '/', strip out whitespace on the right hand-side of the string, and put everything in lower case. The brackets after the words signify that a function has been applied; we'll see more of functions later.\n",
    "\n",
    "You'll often want to output one type of data as another, and Python generally knows what you're trying to achieve if you, for example, `print` a boolean value. For numbers, there are more options and you can see a big list of advice on string formatting of all kinds of things [here](https://pyformat.info/). For now, let's just see a simple example of something called an f-string, a string that combines a number and a string (these begin with an `f` for formatting):"
   ]
  },
  {
   "cell_type": "code",
   "execution_count": null,
   "id": "bbdbfd78",
   "metadata": {},
   "outputs": [],
   "source": [
    "value = 20\n",
    "sqrt_val = 20 ** 0.5\n",
    "print(f\"The square root of {value:d} is {sqrt_val:.2f}\")"
   ]
  },
  {
   "cell_type": "markdown",
   "id": "23910da0",
   "metadata": {},
   "source": [
    "The formatting command `:d` is an instruction to treat `value` like an integer, while `:.2f` is an instruction to print it like a float with 2 decimal places.\n",
    "\n",
    "```{note}\n",
    "f-strings are only available in Python 3.6+\n",
    "```\n",
    "\n",
    "## Booleans and conditions\n",
    "\n",
    "Some of the most important operations you will perform are with `True` and `False` values, also known as boolean data types. There are two types of operation that are associated with booleans: boolean operations, in which existing booleans are combined, and condition operations, which create a boolean when executed.\n",
    "\n",
    "Boolean operators that return booleans are as follows:\n",
    "\n",
    "| Operator | Description |\n",
    "| :---: | :--- |\n",
    "|`x and y`| are `x` and `y` both True? |\n",
    "|`x or y` | is at least one of `x` and `y` True? |\n",
    "| `not x` | is `x` False? | \n",
    "\n",
    "These behave as you'd expect: `True and False` evaluates to `False`, while `True or False` evaluates to `True`. There's also the `not` keyword. For example"
   ]
  },
  {
   "cell_type": "code",
   "execution_count": null,
   "id": "5ef3aba5",
   "metadata": {},
   "outputs": [],
   "source": [
    "not True"
   ]
  },
  {
   "cell_type": "markdown",
   "id": "41cdad15",
   "metadata": {},
   "source": [
    "as you would expect.\n",
    "\n",
    "Conditions are expressions that evaluate as booleans. A simple example is `10 == 20`. The `==` is an operator that compares the objects on either side and returns `True` if they have the same *values*--though be careful using it with different data types.\n",
    "\n",
    "Here's a table of conditions that return booleans:\n",
    "\n",
    "| Operator  | Description                          |\n",
    "| :-------- | :----------------------------------- |\n",
    "| `x == y ` | is `x` equal to `y`?                 |\n",
    "| `x != y`  | is `x` not equal to `y`?             |\n",
    "| `x > y`   | is `x` greater than `y`?             |\n",
    "| `x >= y`  | is `x` greater than or equal to `y`? |\n",
    "| `x < y`   | is `x` less than `y`?                |\n",
    "| `x <= y`  | is `x` less than or equal to `y`?    |\n",
    "| `x is y`  | is `x` the same object as `y`?       |\n",
    "\n",
    "\n",
    "As you can see from the table, the opposite of `==` is `!=`, which you can read as 'not equal to the value of'. Here's an example of `==`:"
   ]
  },
  {
   "cell_type": "code",
   "execution_count": null,
   "id": "78263375",
   "metadata": {},
   "outputs": [],
   "source": [
    "boolean_condition = 10 == 20\n",
    "print(boolean_condition)"
   ]
  },
  {
   "cell_type": "markdown",
   "id": "66b04551",
   "metadata": {},
   "source": [
    "The real power of conditions comes when we start to use them in more complex examples. Some of the keywords that evaluate conditions are `if`, `else`, `and`, `or`, `in`, `not`, and `is`. Here's an example showing how some of these conditional keywords work:"
   ]
  },
  {
   "cell_type": "code",
   "execution_count": null,
   "id": "7aee791f",
   "metadata": {},
   "outputs": [],
   "source": [
    "name = \"Ada\"\n",
    "score = 99\n",
    "\n",
    "if name == \"Ada\" and score > 90:\n",
    "    print(\"Ada, you achieved a high score.\")\n",
    "\n",
    "if name == \"Smith\" or score > 90:\n",
    "    print(\"You could be called Smith or have a high score\")\n",
    "\n",
    "if name != \"Smith\" and score > 90:\n",
    "    print(\"You are not called Smith and you have a high score\")"
   ]
  },
  {
   "cell_type": "markdown",
   "id": "902b0aa1",
   "metadata": {},
   "source": [
    "All three of these conditions evaluate as True, and so all three messages get printed. Given that `==` and `!=` test for equality and not equal, respectively, you may be wondering what the keywords `is` and `not` are for. Remember that everything in Python is an object, and that values can be assigned to objects. `==` and `!=` compare *values*, while `is` and `not` compare *objects*. For example,"
   ]
  },
  {
   "cell_type": "code",
   "execution_count": null,
   "id": "45c2c74d",
   "metadata": {},
   "outputs": [],
   "source": [
    "name_list = [\"Ada\", \"Adam\"]\n",
    "name_list_two = [\"Ada\", \"Adam\"]\n",
    "\n",
    "# Compare values\n",
    "print(name_list == name_list_two)\n",
    "\n",
    "# Compare objects\n",
    "print(name_list is name_list_two)"
   ]
  },
  {
   "cell_type": "markdown",
   "id": "cd1b6cba",
   "metadata": {},
   "source": [
    "One of the most useful conditional keywords is `in`. I must use this one ten times a day to pick out a variable or make sure something is where it's supposed to be."
   ]
  },
  {
   "cell_type": "code",
   "execution_count": null,
   "id": "6993c86c",
   "metadata": {},
   "outputs": [],
   "source": [
    "name_list = [\"Lovelace\", \"Smith\", \"Hopper\", \"Babbage\"]\n",
    "\n",
    "print(\"Lovelace\" in name_list)\n",
    "\n",
    "print(\"Bob\" in name_list)"
   ]
  },
  {
   "cell_type": "markdown",
   "id": "f0bd3f78",
   "metadata": {},
   "source": [
    "The opposite is `not in`.\n",
    "\n",
    "Finally, one conditional construct you're bound to use at *some* point, is the `if`...`else` structure:"
   ]
  },
  {
   "cell_type": "code",
   "execution_count": null,
   "id": "5a4364bf",
   "metadata": {},
   "outputs": [],
   "source": [
    "score = 98\n",
    "\n",
    "if score == 100:\n",
    "    print(\"Top marks!\")\n",
    "elif score > 90 and score < 100:\n",
    "    print(\"High score!\")\n",
    "elif score > 10 and score <= 90:\n",
    "    pass\n",
    "else:\n",
    "    print(\"Better luck next time.\")"
   ]
  },
  {
   "cell_type": "markdown",
   "id": "3b03afdb",
   "metadata": {},
   "source": [
    "Note that this does nothing if the score is between 11 and 90, and prints a message otherwise.\n",
    "\n",
    "One nice feature of Python is that you can make multiple boolean comparisons in a single line."
   ]
  },
  {
   "cell_type": "code",
   "execution_count": null,
   "id": "aa9dd2b4",
   "metadata": {},
   "outputs": [],
   "source": [
    "a, b = 3, 6\n",
    "\n",
    "1 < a < b < 20"
   ]
  },
  {
   "cell_type": "markdown",
   "id": "b4750050",
   "metadata": {},
   "source": [
    "## Casting variables\n",
    "\n",
    "Sometimes we need to explicitly cast a value from one type to another. We can do this using functions like `str()`, `int()`, and `float()`. If you try these, Python will do its best to interpret the input and convert it to the output type you'd like and, if they can't, the code will throw a great big error.\n",
    "\n",
    "Here's an example of casting a `float` as an `int`:"
   ]
  },
  {
   "cell_type": "code",
   "execution_count": null,
   "id": "59db8b96",
   "metadata": {},
   "outputs": [],
   "source": [
    "orig_number = 4.39898498\n",
    "type(orig_number)"
   ]
  },
  {
   "cell_type": "markdown",
   "id": "dcd339b4",
   "metadata": {},
   "source": [
    "Now we cast it to an int:"
   ]
  },
  {
   "cell_type": "code",
   "execution_count": null,
   "id": "dde66e78",
   "metadata": {},
   "outputs": [],
   "source": [
    "mod_number = int(orig_number)\n",
    "mod_number"
   ]
  },
  {
   "cell_type": "markdown",
   "id": "db8f8989",
   "metadata": {},
   "source": [
    "which looks like it became an integer, but we can double check that:"
   ]
  },
  {
   "cell_type": "code",
   "execution_count": null,
   "id": "11d1635d",
   "metadata": {},
   "outputs": [],
   "source": [
    "type(mod_number)"
   ]
  },
  {
   "cell_type": "markdown",
   "id": "97fc6613",
   "metadata": {},
   "source": [
    "## Tuples and (im)mutability\n",
    "\n",
    "A tuple is an object that is defined by parentheses and entries that are separated by commas, for example `(15, 20, 32)`. (They are of type `tuple`.) As such, they have a lot in common with lists-but there's a big and important difference.\n",
    "\n",
    "Tuples are immutable, while lists are mutable. This means that, once defined, we can always modify a list using slicing and indexing, e.g. to change the first entry of a list called `listy` we would use `listy[0] = 5`. But trying to do this with a tuple will result in an error.\n",
    "\n",
    "*Immutable* objects, such as tuples, can't have their elements changed, appended, extended, or removed. Lists can do all of these things. Tuples aren't the only immutable objects in Python; strings are immutable too.\n",
    "\n",
    "You may wonder why both are needed given lists seem to provide a superset of functionality: sometimes in coding, lack of flexibility is a *good* thing because it restricts the number of ways a process can go awry. I dare say there are other reasons too, but you don't need to worry about them and using lists is a good default most of the time.\n",
    "\n",
    "## Indentation\n",
    "\n",
    "You'll have seen that certain parts of the code examples are indented. Code that is part of a function, a conditional clause, or loop is indented. This isn't a code style choice, it's actually what tells the language that some code is to be executed as part of, say, a loop and not to executed after the loop is finished.\n",
    "\n",
    "Here's a basic example of indentation as part of an `if` loop. The `print` statement that is indented only executes if the condition evaluates to true."
   ]
  },
  {
   "cell_type": "code",
   "execution_count": null,
   "id": "4e00bd9f",
   "metadata": {},
   "outputs": [],
   "source": [
    "x = 10\n",
    "\n",
    "if x > 2:\n",
    "    print(\"x is greater than 2\")"
   ]
  },
  {
   "cell_type": "markdown",
   "id": "888da180",
   "metadata": {},
   "source": [
    "When functions, conditional clauses, or loops are combined together, they each cause an *increase* in the level of indentation. Here's a double indent."
   ]
  },
  {
   "cell_type": "code",
   "execution_count": null,
   "id": "d615be64",
   "metadata": {},
   "outputs": [],
   "source": [
    "if x > 2:\n",
    "    print(\"outer conditional cause\")\n",
    "    for i in range(4):\n",
    "        print(\"inner loop\")"
   ]
  },
  {
   "cell_type": "markdown",
   "id": "5c3b176b",
   "metadata": {},
   "source": [
    "The standard practice for indentation is that each sub-statement should be indented by 4 spaces. It can be hard to keep track of these but, as usual, Visual Studio Code has you covered. Go to Settings (the cog in the bottom left-hand corner, then click Settings) and type 'Whitespace' into the search bar. Under 'Editor: Render Whitespace', select 'boundary'. This will show any whitespace that is more than one character long using faint grey dots. Each level of indentation in your Python code should now begin with four grey dots showing that it consists of four spaces. To make it even easier, you can install the 'indent-rainbow' extension in VS Code-this shows different levels of indentation in different colours.\n",
    "\n",
    "## Loops and list comprehensions\n",
    "\n",
    "A loop is a way of executing a similar piece of code over and over in a similar way. The most useful loops are `for` loops and list comprehensions.\n",
    "\n",
    "A `for` loop does something *for* the time that the condition is satisfied. For example,"
   ]
  },
  {
   "cell_type": "code",
   "execution_count": null,
   "id": "48e2e48e",
   "metadata": {},
   "outputs": [],
   "source": [
    "name_list = [\"Lovelace\", \"Smith\", \"Pigou\", \"Babbage\"]\n",
    "\n",
    "for name in name_list:\n",
    "    print(name)"
   ]
  },
  {
   "cell_type": "markdown",
   "id": "140102e4",
   "metadata": {},
   "source": [
    "prints out a name until all names have been printed out. A useful trick with for loops is the `enumerate` keyword, which runs through an index that keeps track of the items in a list:"
   ]
  },
  {
   "cell_type": "code",
   "execution_count": null,
   "id": "d3950694",
   "metadata": {},
   "outputs": [],
   "source": [
    "name_list = [\"Lovelace\", \"Smith\", \"Hopper\", \"Babbage\"]\n",
    "\n",
    "for i, name in enumerate(name_list):\n",
    "    print(f\"The name in position {i} is {name}\")"
   ]
  },
  {
   "cell_type": "markdown",
   "id": "c5712bdf",
   "metadata": {},
   "source": [
    "Remember, Python indexes from 0 so the first entry of `i` will be zero. But, if you'd like to index from a different number, you can:"
   ]
  },
  {
   "cell_type": "code",
   "execution_count": null,
   "id": "154ada3d",
   "metadata": {},
   "outputs": [],
   "source": [
    "for i, name in enumerate(name_list, start=1):\n",
    "    print(f\"The name in position {i} is {name}\")"
   ]
  },
  {
   "cell_type": "markdown",
   "id": "3f3d5a39",
   "metadata": {},
   "source": [
    "High-level languages like Python and R do not get *compiled* into highly performant machine code ahead of being run, unlike C++ and FORTRAN. What this means is that although they are much less unwieldy to use, some types of operation can be very slow--and `for` loops are particularly cumbersome. (Although you may not notice this unless you're working on a bigger computation.)\n",
    "\n",
    "But there is a way around this, and it's with something called a *list comprehension*. These can combine what a `for` loop and a `condition` do in a single line of efficiently executable code. Say we had a list of numbers and wanted to filter it according to whether the numbers divided by 3 or not:"
   ]
  },
  {
   "cell_type": "code",
   "execution_count": null,
   "id": "93f85e11",
   "metadata": {},
   "outputs": [],
   "source": [
    "number_list = range(1, 40)\n",
    "divide_list = [x for x in number_list if x % 3 == 0]\n",
    "print(divide_list)"
   ]
  },
  {
   "cell_type": "markdown",
   "id": "81417388",
   "metadata": {},
   "source": [
    "Or if we only wanted to pick out names that end in 'Smith':"
   ]
  },
  {
   "cell_type": "code",
   "execution_count": null,
   "id": "feee7664",
   "metadata": {},
   "outputs": [],
   "source": [
    "names_list = [\"Joe Bloggs\", \"Adam Smith\", \"Sandra Noone\", \"leonara smith\"]\n",
    "smith_list = [x for x in names_list if \"smith\" in x.lower()]\n",
    "print(smith_list)"
   ]
  },
  {
   "cell_type": "markdown",
   "id": "21bbe67f",
   "metadata": {},
   "source": [
    "Note how we used 'smith' rather than 'Smith' and then used `lower()` to ensure we matched names regardless of the case they are written in. We can even do a whole `if` ... `else` construct *inside* a list comprehension:"
   ]
  },
  {
   "cell_type": "code",
   "execution_count": null,
   "id": "2a76371b",
   "metadata": {},
   "outputs": [],
   "source": [
    "names_list = [\"Joe Bloggs\", \"Adam Smith\", \"Sandra Noone\", \"leonara smith\"]\n",
    "smith_list = [x if \"smith\" in x.lower() else \"Not Smith!\" for x in names_list]\n",
    "print(smith_list)"
   ]
  },
  {
   "cell_type": "markdown",
   "id": "83889e12",
   "metadata": {},
   "source": [
    "Many of the constructs we've seen can be combined. For instance, there is no reason why we can't have a nested or repeated list comprehension, and, perhaps more surprisingly, sometimes these are useful!"
   ]
  },
  {
   "cell_type": "code",
   "execution_count": null,
   "id": "13b006d7",
   "metadata": {},
   "outputs": [],
   "source": [
    "first_names = [\"Ada\", \"Adam\", \"Grace\", \"Charles\"]\n",
    "last_names = [\"Lovelace\", \"Smith\", \"Hopper\", \"Babbage\"]\n",
    "names_list = [x + \" \" + y for x, y in zip(first_names, last_names)]\n",
    "print(names_list)"
   ]
  },
  {
   "cell_type": "markdown",
   "id": "c16908ba",
   "metadata": {},
   "source": [
    "The `zip` keyword is doing this magic; think of it like a zipper, bringing an element of each list together in turn. It can also be used directly in a for loop:"
   ]
  },
  {
   "cell_type": "code",
   "execution_count": null,
   "id": "5594a274",
   "metadata": {},
   "outputs": [],
   "source": [
    "for first_nm, last_nm in zip(first_names, last_names):\n",
    "    print(first_nm, last_nm)"
   ]
  },
  {
   "cell_type": "markdown",
   "id": "43ba87ad",
   "metadata": {},
   "source": [
    "Finally, an even more extreme use of list comprehensions can deliver nested structures:"
   ]
  },
  {
   "cell_type": "code",
   "execution_count": null,
   "id": "3bda96af",
   "metadata": {},
   "outputs": [],
   "source": [
    "first_names = [\"Ada\", \"Adam\"]\n",
    "last_names = [\"Lovelace\", \"Smith\"]\n",
    "names_list = [[x + \" \" + y for x in first_names] for y in last_names]\n",
    "print(names_list)"
   ]
  },
  {
   "cell_type": "markdown",
   "id": "44dc5da5",
   "metadata": {},
   "source": [
    "This gives a nested structure that (in this case) iterates over `first_names` first, and then `last_names`. If you'd like to learn more about list comprehensions, check out these [short video tutorials](https://calmcode.io/comprehensions/introduction.html).\n",
    "\n",
    "## While loops\n",
    "\n",
    "`while` loops continue to execute code until their conditional expression evaluates to `False`. (Of course, if it evaluates to `True` forever, your code will just continue to execute...)"
   ]
  },
  {
   "cell_type": "code",
   "execution_count": null,
   "id": "3785729e",
   "metadata": {},
   "outputs": [],
   "source": [
    "n = 10\n",
    "while n > 0:\n",
    "    print(n)\n",
    "    n -= 1\n",
    "\n",
    "print(\"execution complete\")"
   ]
  },
  {
   "cell_type": "markdown",
   "id": "abc5692e",
   "metadata": {},
   "source": [
    "NB: in case you're wondering what `-=` does, it's a compound assignment that sets the left-hand side equal to the left-hand side minus the right-hand side.\n",
    "\n",
    "You can use the keyword `break` to break out of a while loop, for example if it's reached a certain number of iterations without converging.\n",
    "\n",
    "## Dictionaries\n",
    "\n",
    "Another built-in Python type that is enormously useful is the *dictionary*. This provides a mapping one set of variables to another (either one-to-one or many-to-one). Let's see an example of defining a dictionary and using it:"
   ]
  },
  {
   "cell_type": "code",
   "execution_count": null,
   "id": "e0617166",
   "metadata": {},
   "outputs": [],
   "source": [
    "fruit_dict = {\n",
    "    \"Jazz\": \"Apple\",\n",
    "    \"Owari\": \"Satsuma\",\n",
    "    \"Seto\": \"Satsuma\",\n",
    "    \"Pink Lady\": \"Apple\",\n",
    "}\n",
    "\n",
    "# Add an entry\n",
    "fruit_dict.update({\"Cox\": \"Apple\"})\n",
    "\n",
    "variety_list = [\"Jazz\", \"Jazz\", \"Seto\", \"Cox\"]\n",
    "\n",
    "fruit_list = [fruit_dict[x] for x in variety_list]\n",
    "print(fruit_list)"
   ]
  },
  {
   "cell_type": "markdown",
   "id": "0fbc375a",
   "metadata": {},
   "source": [
    "From an input list of varieties, we get an output list of their associated fruits. Another good trick to know with dictionaries is that you can iterate through their keys and values:"
   ]
  },
  {
   "cell_type": "code",
   "execution_count": null,
   "id": "cf562fda",
   "metadata": {},
   "outputs": [],
   "source": [
    "for key, value in fruit_dict.items():\n",
    "    print(key + \" maps into \" + value)"
   ]
  },
  {
   "cell_type": "markdown",
   "id": "dd4c0539",
   "metadata": {},
   "source": [
    "## Running on empty\n",
    "\n",
    "Being able to create empty containers is sometimes useful. The commands to create empty lists, tuples, dictionaries, and sets are `lst = []`, `tup=()`, `dic={}`, and `st = set()` respectively.\n",
    "\n",
    "## Functions\n",
    "\n",
    "If you're an economist, I hardly need to tell you what a function is. In coding, it's much the same as in mathematics: a function has inputs, it performs its function, and it returns any outputs. Functions begin with a `def` keyword for 'define a function'. It then has a name, followed by brackets, `()`, which may contain *function arguments* and *function keyword arguments*. The body of the function is then indented relative to the left-most text. Function arguments are defined in brackets following the name, with different inputs separated by commas. Any outputs are given with the `return` keyword, again with different variables separated by commas. Let's see a very simple example:"
   ]
  },
  {
   "cell_type": "code",
   "execution_count": null,
   "id": "ea9ddfd7",
   "metadata": {},
   "outputs": [],
   "source": [
    "def welcome_message(name):\n",
    "    return f\"Hello {name}, and welcome!\"\n",
    "\n",
    "\n",
    "# Without indentation, this code is not part of function\n",
    "name = \"Ada\"\n",
    "output_string = welcome_message(name)\n",
    "print(output_string)"
   ]
  },
  {
   "cell_type": "markdown",
   "id": "5a95f864",
   "metadata": {},
   "source": [
    "One powerful feature of functions is that we can define defaults for the input arguments. Let's see that in action by defining a default value for `name`, along with multiple outputs--a hello message and a score."
   ]
  },
  {
   "cell_type": "code",
   "execution_count": null,
   "id": "e77a97c8",
   "metadata": {},
   "outputs": [],
   "source": [
    "def score_message(score, name=\"student\"):\n",
    "    \"\"\"This is a doc-string, a string describing a function.\n",
    "    Args:\n",
    "        score (float): Raw score\n",
    "        name (str): Name of student\n",
    "    Returns:\n",
    "        str: A hello message.\n",
    "        float: A normalised score.\n",
    "    \"\"\"\n",
    "    norm_score = (score - 50) / 10\n",
    "    return f\"Hello {name}\", norm_score\n",
    "\n",
    "\n",
    "# Without indentation, this code is not part of function\n",
    "name = \"Ada\"\n",
    "score = 98\n",
    "# No name entered\n",
    "print(score_message(score))\n",
    "# Name entered\n",
    "print(score_message(score, name=name))"
   ]
  },
  {
   "cell_type": "markdown",
   "id": "d7c2e950",
   "metadata": {},
   "source": [
    "In that last example, you'll notice that I added some text to the function. This is a doc-string. It's there to help users (and, most likely, future you) to understand what the function does. Let's see how this works in action by calling `help` on the `score_message` function:"
   ]
  },
  {
   "cell_type": "code",
   "execution_count": null,
   "id": "a70ce1fa",
   "metadata": {},
   "outputs": [],
   "source": [
    "help(score_message)"
   ]
  },
  {
   "cell_type": "markdown",
   "id": "92b39997",
   "metadata": {},
   "source": [
    "## Scope\n",
    "\n",
    "Scope refers to what parts of your code can see what other parts. If you define a variable inside a function, the rest of your code won't be able to 'see' it or use it. For example, here's a function that creates a variable and then an example of calling that variable:\n",
    "\n",
    "```python\n",
    "def var_func():\n",
    "    str_variable = 'Hello World!'\n",
    "\n",
    "var_func()\n",
    "print(str_variable)\n",
    "```\n",
    "\n",
    "This would raise an error, because as far as your general code is concerned `str_variable` doesn't exist outside of the function. If you want to create variables inside a function and have them persist, you need to explicitly pass them out using, for example `return str_variable` like this:"
   ]
  },
  {
   "cell_type": "code",
   "execution_count": null,
   "id": "1cdc070b",
   "metadata": {},
   "outputs": [],
   "source": [
    "def var_func():\n",
    "    str_variable = \"Hello World!\"\n",
    "    return str_variable\n",
    "\n",
    "\n",
    "returned_var = var_func()\n",
    "print(returned_var)"
   ]
  },
  {
   "cell_type": "markdown",
   "id": "a99c0849",
   "metadata": {},
   "source": [
    "Or, if you only want to modify a variable, you can declare the variable before the function is run, pass it into the function, and then return it.\n",
    "\n",
    "\n",
    "## Using packages and modules\n",
    "\n",
    "We already saw how to install packages in the previous chapter: using `pip install packagename` or `conda install packagename` on the command line. What about using a package that you've installed? That's what we'll look at now.\n",
    "\n",
    "```{note}\n",
    "If you want to install packages into a dedicated conda environment, remember to `conda activate environmentname` before using the package install command(s).\n",
    "```\n",
    "\n",
    "Let's see an example of using the powerful numerical library **numpy**. There are different ways to import packages, you can import the entire package in one go or just import the functions you need. When an entire package is imported, you can give it any name you like and the convention for **numpy** is to import it as the shortened 'np'. All of the functions and methods of the package can be accessed by typing `np` followed by `.` and then typing the function name. As well as demonstrating importing the whole package, the example below shows importing just one specific function."
   ]
  },
  {
   "cell_type": "code",
   "execution_count": null,
   "id": "ecda47db",
   "metadata": {},
   "outputs": [],
   "source": [
    "import numpy as np\n",
    "from numpy.linalg import inv\n",
    "\n",
    "matrix = np.array([[4.0, 2.0, 4.0], [4.0, 5.0, 6.0], [7.0, 8.0, 9.0]])\n",
    "\n",
    "print(\"Matrix:\")\n",
    "print(matrix)\n",
    "\n",
    "inv_mat = inv(matrix)\n",
    "print(\"Inverse:\")\n",
    "print(inv_mat)"
   ]
  },
  {
   "cell_type": "markdown",
   "id": "1a6ef90c",
   "metadata": {},
   "source": [
    "We could have imported all of **numpy** using `from numpy import *` but this is considered bad practice as it fills our 'namespace' with function names that might clash with other packages and it's less easy to parse which package's function is doing what. R also relies heavily on imported libraries but uses a different convention for namespaces: in that case, everything is imported but the *order* of package imports matters for what functions are default.\n",
    "\n",
    "```{note}\n",
    "If you want to check what packages you have installed in your Python environment, run `conda list` on the command line.\n",
    "```\n",
    "\n",
    "### Modules\n",
    "\n",
    "Sometimes, you will want to call in some code from a different script. Imagine you have several code scripts (a, b, and c), all of which use the same underlying function that *you* have written. A central tenet of good coding is that you *do not repeat yourself*. Therefore, a bad solution to this problem would be to copy and paste the same code into all three of the scripts. A *good* solution is to write the code that's need just once in a separate 'utility' script and have the other scripts import that one function:"
   ]
  },
  {
   "cell_type": "code",
   "execution_count": null,
   "id": "68f6fde2",
   "metadata": {
    "tags": [
     "remove-input"
    ]
   },
   "outputs": [],
   "source": [
    "import networkx as nx\n",
    "import matplotlib.pyplot as plt\n",
    "\n",
    "graph = nx.DiGraph()\n",
    "graph.add_edges_from(\n",
    "    [\n",
    "        (\"Utility script\", \"code file a\"),\n",
    "        (\"Utility script\", \"code file b\"),\n",
    "        (\"code file a\", \"code file c\"),\n",
    "        (\"code file b\", \"code file c\"),\n",
    "        (\"Utility script\", \"code file c\"),\n",
    "    ]\n",
    ")\n",
    "colour_node = \"#AFCBFF\"\n",
    "fixed_pos = nx.spring_layout(graph, seed=100)\n",
    "nx.draw(graph, pos=fixed_pos, with_labels=True, node_size=5000, node_color=colour_node)\n",
    "plt.xlim(-1.3, 1.3)\n",
    "plt.ylim(-1.3, 1.3)\n",
    "plt.show();"
   ]
  },
  {
   "cell_type": "markdown",
   "id": "22732666",
   "metadata": {},
   "source": [
    "How would this work in practice? We would define a file 'utilities.py' that had the following:\n",
    "\n",
    "```python\n",
    "# Contents of utilities.py file\n",
    "def really_useful_func(number):\n",
    "    return number*10\n",
    "```\n",
    "\n",
    "Then, in 'code_script_a.py':"
   ]
  },
  {
   "cell_type": "code",
   "execution_count": null,
   "id": "06ec21de",
   "metadata": {},
   "outputs": [],
   "source": [
    "import utilities as utils\n",
    "\n",
    "print(utils.really_useful_func(20))"
   ]
  },
  {
   "cell_type": "markdown",
   "id": "0c8ef16e",
   "metadata": {},
   "source": [
    "An alternative is to *just* import the function we want, with the name we want:"
   ]
  },
  {
   "cell_type": "code",
   "execution_count": null,
   "id": "73b8d4d5",
   "metadata": {},
   "outputs": [],
   "source": [
    "from utilities import really_useful_func as ru_fn\n",
    "\n",
    "print(ru_fn(30))"
   ]
  },
  {
   "cell_type": "markdown",
   "id": "d8d9e327",
   "metadata": {},
   "source": [
    "Another important example is the case where you want to run 'utilities.py' as a script, but still want to borrow functions from it to run in other scripts. There's a way to do this. Let's change utilities.py to\n",
    "\n",
    "```python\n",
    "# Contents of utilities.py file\n",
    "def really_useful_func(number):\n",
    "    return number*10\n",
    "\n",
    "\n",
    "def default_func():\n",
    "    print('Script has run')\n",
    "\n",
    "\n",
    "if __name__ == '__main__':\n",
    "    default_func()\n",
    "```\n",
    "\n",
    "What this says is that if we call 'utilities.py' from the command line, eg\n",
    "\n",
    "```bash\n",
    "python utilities.py\n",
    "```\n",
    "\n",
    "It will return `Script has run` because, by executing the script alone, we are asking for anything in the `main` block defined at the end of the file to be run. But we can still import anything from utilities into other scripts as before--and in that case it is not the main script, but an import, and so the `main` block will *not* be executed.\n",
    "\n",
    "You can important several functions at once from a module (aka another script file) like this:\n",
    "\n",
    "```python\n",
    "from utilities import really_useful_func, default_func\n",
    "```\n",
    "\n",
    "## Lambda functions\n",
    "\n",
    "Lambda functions are a very old idea in programming, and part of the functional programming paradigm. Coding languages tend to be more object-oriented or functional, though high-level languages often mix both. For example, R leans slightly more toward being a functional language, while Python is slightly more object oriented. However, Python does have lambda functions, for example:"
   ]
  },
  {
   "cell_type": "code",
   "execution_count": null,
   "id": "8b710000",
   "metadata": {},
   "outputs": [],
   "source": [
    "plus_one = lambda x: x + 1\n",
    "plus_one(3)"
   ]
  },
  {
   "cell_type": "markdown",
   "id": "7eb9d152",
   "metadata": {},
   "source": [
    "For a one-liner function that has a name it's actually better practice here to use `def plus_one(x): return x + 1`, so you shouldn't see this form of lambda function too much in the wild. However, you are likely to see lambda functions being used with dataframes and other objects. For example, if you had a dataframe with a column of string called 'strings' that you want to change to \"Title Case\" and replace one phrase with another, you could use lambda functions to do that (there are better ways of doing this but this is useful as a simple example):"
   ]
  },
  {
   "cell_type": "code",
   "execution_count": null,
   "id": "31559977",
   "metadata": {},
   "outputs": [],
   "source": [
    "import pandas as pd\n",
    "\n",
    "df = pd.DataFrame(\n",
    "    data=[[\"hello my blah is Ada\"], [\"hElLo mY blah IS Adam\"]],\n",
    "    columns=[\"strings\"],\n",
    "    dtype=\"string\",\n",
    ")\n",
    "df[\"strings\"].apply(lambda x: x.title().replace(\"Blah\", \"Name\"))"
   ]
  },
  {
   "cell_type": "markdown",
   "id": "c50f3fc2",
   "metadata": {},
   "source": [
    "More complex lambda functions can be constructed, eg `lambda x, y, z: x + y + z`. One of the best use cases of lambdas is when you *don't* want to go to the trouble of declaring a function. For example, let's say you want to compose a series of functions and you want to specify those functions in a list, one after the other. Using functions alone, you'd have to define a new function for each operation. With lambdas, it would look like this (again, there are easier ways to do this operation, but we'll use simple functions to demonstrate the principle):"
   ]
  },
  {
   "cell_type": "code",
   "execution_count": null,
   "id": "b3481215",
   "metadata": {},
   "outputs": [],
   "source": [
    "number = 1\n",
    "for func in [lambda x: x + 1, lambda x: x * 2, lambda x: x ** 2]:\n",
    "    number = func(number)\n",
    "    print(number)"
   ]
  },
  {
   "cell_type": "markdown",
   "id": "af02b03d",
   "metadata": {},
   "source": [
    "Note that people often use `x` by convention, but there's nothing to stop you writing `lambda horses: horses**2` (except the looks your co-authors will give you). If you want to learn more about lambda functions, check out these [short video tutorials](https://calmcode.io/lambda/introduction.html).\n",
    "\n",
    "## Splat and splatty-splat\n",
    "\n",
    "You read those right, yes. These are also known as unpacking operators for, respectively, arguments and dictionaries. For instance, if I have a function that takes two arguments I can send variables to it in different ways:"
   ]
  },
  {
   "cell_type": "code",
   "execution_count": null,
   "id": "d7c95271",
   "metadata": {},
   "outputs": [],
   "source": [
    "def add(a, b):\n",
    "    return a + b\n",
    "\n",
    "\n",
    "print(add(5, 10))\n",
    "\n",
    "func_args = (6, 11)\n",
    "\n",
    "print(add(*func_args))"
   ]
  },
  {
   "cell_type": "markdown",
   "id": "a19a6f55",
   "metadata": {},
   "source": [
    "The splat operator, `*`, unpacks the variable `func_args` into two different function arguments. Splatty-splat unpacks dictionaries into keyword arguments (aka kwargs):"
   ]
  },
  {
   "cell_type": "code",
   "execution_count": null,
   "id": "97236c5a",
   "metadata": {},
   "outputs": [],
   "source": [
    "def function_with_kwargs(a, x=0, y=0, z=0):\n",
    "    return a + x + y + z\n",
    "\n",
    "\n",
    "print(function_with_kwargs(5))\n",
    "\n",
    "kwargs = {\"x\": 3, \"y\": 4, \"z\": 5}\n",
    "\n",
    "print(function_with_kwargs(5, **kwargs))"
   ]
  },
  {
   "cell_type": "markdown",
   "id": "dc767645",
   "metadata": {},
   "source": [
    "Perhaps most surprisingly of all, we can use the splat operator *in the definition of a function*. For example:"
   ]
  },
  {
   "cell_type": "code",
   "execution_count": null,
   "id": "e88ba839",
   "metadata": {},
   "outputs": [],
   "source": [
    "def sum_elements(*elements):\n",
    "    return sum(*elements)\n",
    "\n",
    "\n",
    "nums = (1, 2, 3)\n",
    "\n",
    "print(sum_elements(nums))\n",
    "\n",
    "more_nums = (1, 2, 3, 4, 5)\n",
    "\n",
    "print(sum_elements(more_nums))"
   ]
  },
  {
   "cell_type": "markdown",
   "id": "d1f10d45",
   "metadata": {},
   "source": [
    "To learn more about args and kwargs, check out these [short video tutorials](https://calmcode.io/args-kwargs/introduction.html).\n",
    "\n",
    "## Time\n",
    "\n",
    "Let's do a quick dive into how to deal with dates and times. This is only going to scratch the surface, but should give a sense of what's possible.\n",
    "\n",
    "The built-in library that deals with datetimes is called `datetime`. Let's import it and ask it to give us a very precise account of the datetime (when the code is executed):"
   ]
  },
  {
   "cell_type": "code",
   "execution_count": null,
   "id": "c1a4888e",
   "metadata": {},
   "outputs": [],
   "source": [
    "from datetime import datetime\n",
    "\n",
    "now = datetime.now()\n",
    "print(now)"
   ]
  },
  {
   "cell_type": "markdown",
   "id": "3775c89c",
   "metadata": {},
   "source": [
    "You can pick out bits of the datetime that you need:"
   ]
  },
  {
   "cell_type": "code",
   "execution_count": null,
   "id": "d0d51519",
   "metadata": {},
   "outputs": [],
   "source": [
    "day = now.day\n",
    "month = now.month\n",
    "year = now.year\n",
    "hour = now.hour\n",
    "minute = now.minute\n",
    "print(f\"{year}/{month}/{day}, {hour}:{minute}\")"
   ]
  },
  {
   "cell_type": "markdown",
   "id": "a6863abb",
   "metadata": {},
   "source": [
    "To add or subtract time to a datetime, use `timedelta`:"
   ]
  },
  {
   "cell_type": "code",
   "execution_count": null,
   "id": "42eeabc3",
   "metadata": {},
   "outputs": [],
   "source": [
    "from datetime import timedelta\n",
    "\n",
    "new_time = now + timedelta(days=365, hours=5)\n",
    "print(new_time)"
   ]
  },
  {
   "cell_type": "markdown",
   "id": "b844a5cb",
   "metadata": {},
   "source": [
    "To take the difference of two dates:"
   ]
  },
  {
   "cell_type": "code",
   "execution_count": null,
   "id": "b8bfd98f",
   "metadata": {},
   "outputs": [],
   "source": [
    "from datetime import date\n",
    "\n",
    "new_year = date(year=2022, month=1, day=1)\n",
    "time_till_ny = new_year - date.today()\n",
    "print(f\"{time_till_ny.days} days until New Year\")"
   ]
  },
  {
   "cell_type": "markdown",
   "id": "62895364",
   "metadata": {},
   "source": [
    "Note that date and datetime are two different types of objects-a datetime includes information on the date and time, whereas a date does not.\n",
    "\n",
    "## Reading and writing files\n",
    "\n",
    "Although most applications in economics will probably use the **pandas** package to read and write tabular data, it's sometimes useful to know how to read and write arbitrary files using the built-in Python libraries too. To open a file\n",
    "\n",
    "```python\n",
    "open('filename', mode)\n",
    "```\n",
    "\n",
    "where `mode` could be `r` for read, `a` for append, `w` for write, and `x` to create a file. Create a file called `text_example.txt` and write a single line in it, 'hello world'. To open the file and print the text, use:\n",
    "\n",
    "```python\n",
    "with open('text_example.txt') as f:\n",
    "    text_in = f.read()\n",
    "\n",
    "print(text_in)\n",
    "```\n",
    "\n",
    "```python\n",
    "'hello world!\\n'\n",
    "```\n",
    "\n",
    "`\\n` is the new line character. Now let's try adding a line to the file:\n",
    "\n",
    "```python\n",
    "with open('text_example.txt', 'a') as f:\n",
    "    f.write('this is another line\\n')\n",
    "```\n",
    "\n",
    "Writing and reading files using the `with` command is a quick and convenient shorthand for the less concise open, action, close pattern. For example, the above example can also be written as:\n",
    "\n",
    "```python\n",
    "f = open('text_example.txt', 'a')\n",
    "f.write('this is another line\\n')\n",
    "f.close()\n",
    "```\n",
    "\n",
    "Although this short example shows opening and writing a text file, this approach can be used to edit a wide range of file extensions including .json, .xml, .csv, .tsv, and many more, including binary files in addition to plain text files.\n",
    "\n",
    "## Miscellaneous fun\n",
    "\n",
    "Here are some other bits of basic coding that might be useful. They really show why Python is such a delightful language.\n",
    "\n",
    "You can use unicode characters for variables"
   ]
  },
  {
   "cell_type": "code",
   "execution_count": null,
   "id": "ded94a66",
   "metadata": {},
   "outputs": [],
   "source": [
    "α = 15\n",
    "β = 30\n",
    "\n",
    "print(α / β)"
   ]
  },
  {
   "cell_type": "markdown",
   "id": "880e60e0",
   "metadata": {},
   "source": [
    "You can swap variables in a single assignment:"
   ]
  },
  {
   "cell_type": "code",
   "execution_count": null,
   "id": "c54145d2",
   "metadata": {},
   "outputs": [],
   "source": [
    "a = 10\n",
    "b = \"This is a string\"\n",
    "\n",
    "a, b = b, a\n",
    "\n",
    "print(a)"
   ]
  },
  {
   "cell_type": "markdown",
   "id": "3d4912ad",
   "metadata": {},
   "source": [
    "**iterools** offers counting, repeating, cycling, chaining, and slicing. Here's a cycling example that uses the `next` keyword to get the next iteraction:"
   ]
  },
  {
   "cell_type": "code",
   "execution_count": null,
   "id": "44f9c776",
   "metadata": {},
   "outputs": [],
   "source": [
    "from itertools import cycle\n",
    "\n",
    "lorrys = [\"red lorry\", \"yellow lorry\"]\n",
    "lorry_iter = cycle(lorrys)\n",
    "\n",
    "print(next(lorry_iter))\n",
    "print(next(lorry_iter))\n",
    "print(next(lorry_iter))"
   ]
  },
  {
   "cell_type": "markdown",
   "id": "dddcf828",
   "metadata": {},
   "source": [
    "**iterools** also offers products, combinations, combinations with replacement, and permutations. Here are the combinations of 'abc' of length 2:"
   ]
  },
  {
   "cell_type": "code",
   "execution_count": null,
   "id": "5279febe",
   "metadata": {},
   "outputs": [],
   "source": [
    "from itertools import combinations\n",
    "\n",
    "print(list(combinations(\"abc\", 2)))"
   ]
  },
  {
   "cell_type": "markdown",
   "id": "12801805",
   "metadata": {},
   "source": [
    "Find out what the date is! (Can pass a timezone as an argument.)"
   ]
  },
  {
   "cell_type": "code",
   "execution_count": null,
   "id": "2fb6ba3c",
   "metadata": {},
   "outputs": [],
   "source": [
    "from datetime import date\n",
    "\n",
    "print(date.today())"
   ]
  },
  {
   "cell_type": "markdown",
   "id": "819c0871",
   "metadata": {},
   "source": [
    "Because functions are just objects, you can iterate over them just like any other object:"
   ]
  },
  {
   "cell_type": "code",
   "execution_count": null,
   "id": "29affdd2",
   "metadata": {},
   "outputs": [],
   "source": [
    "functions = [str.isdigit, str.islower, str.isupper]\n",
    "\n",
    "raw_str = \"asdfaa3fa\"\n",
    "\n",
    "for str_func in functions:\n",
    "    print(f\"Function name: {str_func.__name__}, value is:\")\n",
    "    print(str_func(raw_str))"
   ]
  },
  {
   "cell_type": "markdown",
   "id": "598c970f",
   "metadata": {},
   "source": [
    "Functions can be defined recursively. For instance, the Fibonacci sequence is defined such that $ a_n = a_{n-1} + a_{n-2} $ for $ n>1 $."
   ]
  },
  {
   "cell_type": "code",
   "execution_count": null,
   "id": "a44d66aa",
   "metadata": {},
   "outputs": [],
   "source": [
    "def fibonacci(n):\n",
    "    if n < 0:\n",
    "        print(\"Please enter n>0\")\n",
    "        return 0\n",
    "    elif n <= 1:\n",
    "        return n\n",
    "    else:\n",
    "        return fibonacci(n - 1) + fibonacci(n - 2)\n",
    "\n",
    "\n",
    "[fibonacci(i) for i in range(10)]"
   ]
  },
  {
   "cell_type": "markdown",
   "id": "a6b4b4ca",
   "metadata": {},
   "source": [
    "This is just a taster of what can be done using 'batteries included' base Python; for more see the Advanced Coding Chapter.\n",
    "\n",
    "## Review\n",
    "\n",
    "If you now understand a bit about what objects, types, operators, conditional statements, loops, functions, and imports are, and *how* to use them, you are well on your way to becoming a coder. What you've seen in this chapter are the building blocks and you need to know a bit about them. But bricks by themselves do not a house make. In subsequent chapters, we'll see how to combine the elements here to do productive analysis in economics."
   ]
  }
 ],
 "metadata": {
  "jupytext": {
   "cell_metadata_filter": "-all",
   "formats": "md:myst",
   "text_representation": {
    "extension": ".md",
    "format_name": "myst",
    "format_version": "0.8",
    "jupytext_version": "1.5.0"
   }
  },
  "kernelspec": {
   "display_name": "codeforecon",
   "language": "python",
   "name": "codeforecon"
  },
  "language_info": {
   "codemirror_mode": {
    "name": "ipython",
    "version": 3
   },
   "file_extension": ".py",
   "mimetype": "text/x-python",
   "name": "python",
   "nbconvert_exporter": "python",
   "pygments_lexer": "ipython3",
   "version": "3.8.6"
  },
  "source_map": [
   14,
   51,
   54,
   60,
   63,
   73,
   76,
   82,
   84,
   116,
   119,
   123,
   126,
   132,
   135,
   139,
   145,
   149,
   151,
   155,
   158,
   166,
   171,
   175,
   180,
   184,
   187,
   209,
   212,
   216,
   223,
   229,
   233,
   239,
   243,
   265,
   267,
   288,
   291,
   295,
   308,
   312,
   321,
   325,
   331,
   337,
   348,
   354,
   358,
   366,
   369,
   373,
   376,
   380,
   382,
   400,
   405,
   409,
   414,
   424,
   430,
   434,
   440,
   444,
   448,
   454,
   458,
   462,
   466,
   470,
   474,
   478,
   483,
   487,
   490,
   494,
   499,
   508,
   515,
   525,
   536,
   540,
   545,
   555,
   564,
   568,
   589,
   593,
   595,
   611,
   618,
   633,
   645,
   657,
   673,
   685,
   689,
   693,
   697,
   733,
   736,
   740,
   746,
   750,
   755,
   763,
   773,
   777,
   787,
   791,
   803,
   814,
   818,
   822,
   829,
   833,
   838,
   842,
   848,
   896,
   902,
   906,
   913,
   917,
   926,
   930,
   933,
   937,
   940,
   944,
   952,
   956,
   968
  ]
 },
 "nbformat": 4,
 "nbformat_minor": 5
}
